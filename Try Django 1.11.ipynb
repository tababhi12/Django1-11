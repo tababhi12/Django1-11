{
 "cells": [
  {
   "cell_type": "markdown",
   "metadata": {},
   "source": [
    "## Packages to install"
   ]
  },
  {
   "cell_type": "raw",
   "metadata": {},
   "source": [
    "dj-database-url==0.5.0\n",
    "Django==2.2\n",
    "django-crispy-forms==1.7.2\n",
    "django-extensions==2.1.6\n",
    "gunicorn==19.9.0\n",
    "Pillow==6.0.0\n",
    "psycopg2==2.7.7\n",
    "pytz==2018.9\n",
    "six==1.12.0\n",
    "sqlparse==0.3.0\n",
    "Werkzeug==0.15.2"
   ]
  },
  {
   "cell_type": "markdown",
   "metadata": {},
   "source": [
    "### Server not restarting so changes are not reflecting for that"
   ]
  },
  {
   "cell_type": "raw",
   "metadata": {},
   "source": [
    "pip install django-extensions\n",
    "pip install Werkzeug\n",
    "python manage.py runserver_plus\n",
    "You will need to add the django_extensions application to the INSTALLED_APPS setting of your Django project settings.py file."
   ]
  },
  {
   "cell_type": "markdown",
   "metadata": {},
   "source": [
    "### Upload your folder to git"
   ]
  },
  {
   "cell_type": "raw",
   "metadata": {},
   "source": [
    "move to the folder\n",
    "echo \"# trydjango1-11\" >> README.md\n",
    "git init\n",
    "git add README.md\n",
    "git add .\n",
    "git commit -m \"first commit\"\n",
    "git remote add origin https://github.com/tababhi12/trydjango1-11.git(first time only)\n",
    "git push -u origin master\n",
    "git pull origin master"
   ]
  },
  {
   "cell_type": "raw",
   "metadata": {},
   "source": [
    " {% verbatim %} {% endverbatim %}:text inside between will be display exactly it is with variable also in {{}}"
   ]
  },
  {
   "cell_type": "markdown",
   "metadata": {},
   "source": [
    "# Urls"
   ]
  },
  {
   "cell_type": "raw",
   "metadata": {},
   "source": [
    "https://getbootstrap.com/docs/4.3/getting-started/introduction/\n",
    "https://code.jquery.com/\n",
    "joincfe.com/github\n",
    "https://docs.djangoproject.com/en/2.2/topics/class-based-views/intro/\n",
    "https://docs.djangoproject.com/en/2.1/ref/models/querysets/\n",
    "https://docs.djangoproject.com/en/2.2/ref/class-based-views/generic-display/"
   ]
  },
  {
   "cell_type": "markdown",
   "metadata": {},
   "source": [
    "## Work with sqlite3"
   ]
  },
  {
   "cell_type": "code",
   "execution_count": null,
   "metadata": {},
   "outputs": [],
   "source": [
    "#to get aal the elenents \n",
    "for e in Entry.objects.all():\n",
    "    print(e.headline)\n",
    "\n",
    "#to get with column name \n",
    "Entry.filter(category__iexact = 'mexican')\n",
    "\n",
    "#to update\n",
    "Entry.update(category = 'American')\n",
    "\n",
    "#to insert new data\n",
    "obj = Entry()\n",
    "obj.name = 'Pablos'\n",
    "obj.location = 'Brookefield'\n",
    "obj.category = 'Asian fusion'\n",
    "\n",
    "obj.save() #save it to the database\n",
    "\n",
    "obj.exist() #return true or fasle based on its existance\n",
    "\n",
    "obj.count()\n",
    "\n",
    "#to create in effective manner\n",
    "obj = Entry.objects.create(name = 'Pallet',location = 'Whitefield',category = 'Mexican') #you dont have to save in this\n",
    "    "
   ]
  }
 ],
 "metadata": {
  "kernelspec": {
   "display_name": "Python 3",
   "language": "python",
   "name": "python3"
  },
  "language_info": {
   "codemirror_mode": {
    "name": "ipython",
    "version": 3
   },
   "file_extension": ".py",
   "mimetype": "text/x-python",
   "name": "python",
   "nbconvert_exporter": "python",
   "pygments_lexer": "ipython3",
   "version": "3.6.8"
  }
 },
 "nbformat": 4,
 "nbformat_minor": 2
}
